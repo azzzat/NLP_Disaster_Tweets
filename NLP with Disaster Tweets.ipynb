{
 "cells": [
  {
   "cell_type": "markdown",
   "id": "ef4cbc11-e255-45b3-b4b4-f17a26df4d86",
   "metadata": {},
   "source": [
    "# **Natural Language Processing with Disaster Tweets**"
   ]
  },
  {
   "cell_type": "markdown",
   "id": "008ae412-e051-4814-b1a4-6ac2a6e3cfd2",
   "metadata": {},
   "source": [
    "### **1.Introduction**"
   ]
  },
  {
   "cell_type": "markdown",
   "id": "3443067c-749e-4946-8981-d9394b1bf83f",
   "metadata": {},
   "source": [
    "#### In this work i will use:\n",
    "* **Pandas** is used for data manipulation and analysis\n",
    "* **NumPy** is used for numerical operations, especially arrays\n",
    "* **Seaborn** is used for statistical data visualization\n",
    "\n",
    "#### For Natural Language Processing:\n",
    "* **SnowballStemmer** - reducing words to their root form\n",
    "* **Stopwords** provides a list of common words (like 'the', 'is')\n",
    "* **Cleantext** is a package for cleaning text\n",
    "* **Tokenizer** to convert text to sequences of integers\n",
    "* **Keras** is the high-level neural network API used with TensorFlow for building deep learning models"
   ]
  },
  {
   "cell_type": "markdown",
   "id": "2fe7177c-aec4-4d5e-8b05-4a4ba145f627",
   "metadata": {},
   "source": [
    "#### **Recurrent Neural Network (RNN)**\n",
    "class of neural networks designed for processing sequential data, such as time series or text. Unlike traditional feedforward neural networks, RNNs have connections that loop back, allowing them to maintain a \"memory\" of previous inputs in the sequence."
   ]
  },
  {
   "cell_type": "markdown",
   "id": "3d175fb4-7e43-4a2c-9cd4-2392d4e1e873",
   "metadata": {},
   "source": [
    "#### **LSTM (Long Short-Term Memory)**\n",
    "special type of Recurrent Neural Network (RNN) that is specifically designed to handle long-range dependencies in sequential data. It mitigates the vanishing gradient problem that simple RNNs encounter, making it more capable of capturing long-term dependencies."
   ]
  },
  {
   "cell_type": "markdown",
   "id": "7fb6f6ff-8c5e-4539-abe0-ded09aa6057f",
   "metadata": {},
   "source": [
    "#### Importing essential libraries for data processing and model building"
   ]
  },
  {
   "cell_type": "code",
   "execution_count": 1,
   "id": "4158f304-6d3c-4185-bc8b-f3e787670517",
   "metadata": {},
   "outputs": [],
   "source": [
    "import pandas as pd  \n",
    "import numpy as np   \n",
    "\n",
    "# Visualization libraries\n",
    "import seaborn as sns \n",
    "import matplotlib.pyplot as plt\n",
    "\n",
    "# Natural Language Processing (NLP) libraries\n",
    "from nltk.stem import SnowballStemmer \n",
    "from nltk.corpus import stopwords \n",
    "\n",
    "# Text cleaning library\n",
    "from cleantext import clean\n",
    "\n",
    "# Tokenization and padding for text preprocessing\n",
    "from tensorflow.keras.preprocessing.text import Tokenizer  \n",
    "from tensorflow.keras.preprocessing.sequence import pad_sequences\n",
    "\n",
    "# Neural network libraries (Keras and TensorFlow)\n",
    "from tensorflow.keras.models import Sequential\n",
    "from tensorflow.keras.layers import Embedding, SimpleRNN, Dense, Dropout  \n",
    "from tensorflow.keras.optimizers import Adam  \n",
    "from tensorflow.keras.layers import LSTM, Bidirectional \n",
    "import keras as keras\n",
    "\n",
    "\n",
    "from sklearn.model_selection import train_test_split "
   ]
  },
  {
   "cell_type": "markdown",
   "id": "45d81897-a6a2-4202-9108-1b90d3beb287",
   "metadata": {},
   "source": [
    "###  \n",
    "### **2. Import data**"
   ]
  },
  {
   "cell_type": "markdown",
   "id": "b30ca524-278e-4dc8-9f60-133784a48040",
   "metadata": {},
   "source": [
    "#### Import train data"
   ]
  },
  {
   "cell_type": "code",
   "execution_count": 2,
   "id": "a0d0fe4d-f59b-4bc7-86c7-c37cae112c5c",
   "metadata": {},
   "outputs": [],
   "source": [
    "train_data=pd.read_csv(\"./data/train.csv\")"
   ]
  },
  {
   "cell_type": "markdown",
   "id": "2f465cc5-e2da-4bb9-b1e2-5b9c9217a965",
   "metadata": {},
   "source": [
    "#### Import test data"
   ]
  },
  {
   "cell_type": "code",
   "execution_count": 3,
   "id": "9ffd0d0d-5146-46b1-b863-b1e84a7aac07",
   "metadata": {},
   "outputs": [],
   "source": [
    "test_data=pd.read_csv(\"./data/test.csv\")"
   ]
  },
  {
   "cell_type": "markdown",
   "id": "88e0c5ff-1599-46bd-8b24-13ec83d2df77",
   "metadata": {},
   "source": [
    "###  \n",
    "### **3. EDA**"
   ]
  },
  {
   "cell_type": "code",
   "execution_count": 4,
   "id": "860b0956-8a70-4a21-ad5c-612722155788",
   "metadata": {},
   "outputs": [
    {
     "data": {
      "text/html": [
       "<div>\n",
       "<style scoped>\n",
       "    .dataframe tbody tr th:only-of-type {\n",
       "        vertical-align: middle;\n",
       "    }\n",
       "\n",
       "    .dataframe tbody tr th {\n",
       "        vertical-align: top;\n",
       "    }\n",
       "\n",
       "    .dataframe thead th {\n",
       "        text-align: right;\n",
       "    }\n",
       "</style>\n",
       "<table border=\"1\" class=\"dataframe\">\n",
       "  <thead>\n",
       "    <tr style=\"text-align: right;\">\n",
       "      <th></th>\n",
       "      <th>id</th>\n",
       "      <th>keyword</th>\n",
       "      <th>location</th>\n",
       "      <th>text</th>\n",
       "      <th>target</th>\n",
       "    </tr>\n",
       "  </thead>\n",
       "  <tbody>\n",
       "    <tr>\n",
       "      <th>0</th>\n",
       "      <td>1</td>\n",
       "      <td>NaN</td>\n",
       "      <td>NaN</td>\n",
       "      <td>Our Deeds are the Reason of this #earthquake M...</td>\n",
       "      <td>1</td>\n",
       "    </tr>\n",
       "    <tr>\n",
       "      <th>1</th>\n",
       "      <td>4</td>\n",
       "      <td>NaN</td>\n",
       "      <td>NaN</td>\n",
       "      <td>Forest fire near La Ronge Sask. Canada</td>\n",
       "      <td>1</td>\n",
       "    </tr>\n",
       "    <tr>\n",
       "      <th>2</th>\n",
       "      <td>5</td>\n",
       "      <td>NaN</td>\n",
       "      <td>NaN</td>\n",
       "      <td>All residents asked to 'shelter in place' are ...</td>\n",
       "      <td>1</td>\n",
       "    </tr>\n",
       "    <tr>\n",
       "      <th>3</th>\n",
       "      <td>6</td>\n",
       "      <td>NaN</td>\n",
       "      <td>NaN</td>\n",
       "      <td>13,000 people receive #wildfires evacuation or...</td>\n",
       "      <td>1</td>\n",
       "    </tr>\n",
       "    <tr>\n",
       "      <th>4</th>\n",
       "      <td>7</td>\n",
       "      <td>NaN</td>\n",
       "      <td>NaN</td>\n",
       "      <td>Just got sent this photo from Ruby #Alaska as ...</td>\n",
       "      <td>1</td>\n",
       "    </tr>\n",
       "  </tbody>\n",
       "</table>\n",
       "</div>"
      ],
      "text/plain": [
       "   id keyword location                                               text  \\\n",
       "0   1     NaN      NaN  Our Deeds are the Reason of this #earthquake M...   \n",
       "1   4     NaN      NaN             Forest fire near La Ronge Sask. Canada   \n",
       "2   5     NaN      NaN  All residents asked to 'shelter in place' are ...   \n",
       "3   6     NaN      NaN  13,000 people receive #wildfires evacuation or...   \n",
       "4   7     NaN      NaN  Just got sent this photo from Ruby #Alaska as ...   \n",
       "\n",
       "   target  \n",
       "0       1  \n",
       "1       1  \n",
       "2       1  \n",
       "3       1  \n",
       "4       1  "
      ]
     },
     "execution_count": 4,
     "metadata": {},
     "output_type": "execute_result"
    }
   ],
   "source": [
    "train_data.head()"
   ]
  },
  {
   "cell_type": "code",
   "execution_count": 5,
   "id": "01c24957-e54c-4944-a755-773d6896dfc6",
   "metadata": {},
   "outputs": [
    {
     "name": "stdout",
     "output_type": "stream",
     "text": [
      "Train data has 7613 rows and 5 columns.\n"
     ]
    }
   ],
   "source": [
    "print(f\"Train data has {train_data.shape[0]} rows and {train_data.shape[1]} columns.\")"
   ]
  },
  {
   "cell_type": "code",
   "execution_count": 6,
   "id": "75404f7c-6d84-46ff-ab71-137f4c453d0d",
   "metadata": {},
   "outputs": [
    {
     "data": {
      "text/html": [
       "<div>\n",
       "<style scoped>\n",
       "    .dataframe tbody tr th:only-of-type {\n",
       "        vertical-align: middle;\n",
       "    }\n",
       "\n",
       "    .dataframe tbody tr th {\n",
       "        vertical-align: top;\n",
       "    }\n",
       "\n",
       "    .dataframe thead th {\n",
       "        text-align: right;\n",
       "    }\n",
       "</style>\n",
       "<table border=\"1\" class=\"dataframe\">\n",
       "  <thead>\n",
       "    <tr style=\"text-align: right;\">\n",
       "      <th></th>\n",
       "      <th>id</th>\n",
       "      <th>keyword</th>\n",
       "      <th>location</th>\n",
       "      <th>text</th>\n",
       "    </tr>\n",
       "  </thead>\n",
       "  <tbody>\n",
       "    <tr>\n",
       "      <th>0</th>\n",
       "      <td>0</td>\n",
       "      <td>NaN</td>\n",
       "      <td>NaN</td>\n",
       "      <td>Just happened a terrible car crash</td>\n",
       "    </tr>\n",
       "    <tr>\n",
       "      <th>1</th>\n",
       "      <td>2</td>\n",
       "      <td>NaN</td>\n",
       "      <td>NaN</td>\n",
       "      <td>Heard about #earthquake is different cities, s...</td>\n",
       "    </tr>\n",
       "    <tr>\n",
       "      <th>2</th>\n",
       "      <td>3</td>\n",
       "      <td>NaN</td>\n",
       "      <td>NaN</td>\n",
       "      <td>there is a forest fire at spot pond, geese are...</td>\n",
       "    </tr>\n",
       "    <tr>\n",
       "      <th>3</th>\n",
       "      <td>9</td>\n",
       "      <td>NaN</td>\n",
       "      <td>NaN</td>\n",
       "      <td>Apocalypse lighting. #Spokane #wildfires</td>\n",
       "    </tr>\n",
       "    <tr>\n",
       "      <th>4</th>\n",
       "      <td>11</td>\n",
       "      <td>NaN</td>\n",
       "      <td>NaN</td>\n",
       "      <td>Typhoon Soudelor kills 28 in China and Taiwan</td>\n",
       "    </tr>\n",
       "  </tbody>\n",
       "</table>\n",
       "</div>"
      ],
      "text/plain": [
       "   id keyword location                                               text\n",
       "0   0     NaN      NaN                 Just happened a terrible car crash\n",
       "1   2     NaN      NaN  Heard about #earthquake is different cities, s...\n",
       "2   3     NaN      NaN  there is a forest fire at spot pond, geese are...\n",
       "3   9     NaN      NaN           Apocalypse lighting. #Spokane #wildfires\n",
       "4  11     NaN      NaN      Typhoon Soudelor kills 28 in China and Taiwan"
      ]
     },
     "execution_count": 6,
     "metadata": {},
     "output_type": "execute_result"
    }
   ],
   "source": [
    "test_data.head()"
   ]
  },
  {
   "cell_type": "code",
   "execution_count": 7,
   "id": "2af6f069-f5af-45ee-a65a-50396293a570",
   "metadata": {},
   "outputs": [
    {
     "name": "stdout",
     "output_type": "stream",
     "text": [
      "Test data has 3263 rows and 4 columns.\n"
     ]
    }
   ],
   "source": [
    "print(f\"Test data has {test_data.shape[0]} rows and {test_data.shape[1]} columns.\")"
   ]
  },
  {
   "cell_type": "code",
   "execution_count": 8,
   "id": "dcb43797-08f9-4c67-b298-9fc856e0c39d",
   "metadata": {},
   "outputs": [
    {
     "data": {
      "text/html": [
       "<div>\n",
       "<style scoped>\n",
       "    .dataframe tbody tr th:only-of-type {\n",
       "        vertical-align: middle;\n",
       "    }\n",
       "\n",
       "    .dataframe tbody tr th {\n",
       "        vertical-align: top;\n",
       "    }\n",
       "\n",
       "    .dataframe thead th {\n",
       "        text-align: right;\n",
       "    }\n",
       "</style>\n",
       "<table border=\"1\" class=\"dataframe\">\n",
       "  <thead>\n",
       "    <tr style=\"text-align: right;\">\n",
       "      <th></th>\n",
       "      <th>id</th>\n",
       "      <th>target</th>\n",
       "    </tr>\n",
       "  </thead>\n",
       "  <tbody>\n",
       "    <tr>\n",
       "      <th>count</th>\n",
       "      <td>7613.000000</td>\n",
       "      <td>7613.00000</td>\n",
       "    </tr>\n",
       "    <tr>\n",
       "      <th>mean</th>\n",
       "      <td>5441.934848</td>\n",
       "      <td>0.42966</td>\n",
       "    </tr>\n",
       "    <tr>\n",
       "      <th>std</th>\n",
       "      <td>3137.116090</td>\n",
       "      <td>0.49506</td>\n",
       "    </tr>\n",
       "    <tr>\n",
       "      <th>min</th>\n",
       "      <td>1.000000</td>\n",
       "      <td>0.00000</td>\n",
       "    </tr>\n",
       "    <tr>\n",
       "      <th>25%</th>\n",
       "      <td>2734.000000</td>\n",
       "      <td>0.00000</td>\n",
       "    </tr>\n",
       "    <tr>\n",
       "      <th>50%</th>\n",
       "      <td>5408.000000</td>\n",
       "      <td>0.00000</td>\n",
       "    </tr>\n",
       "    <tr>\n",
       "      <th>75%</th>\n",
       "      <td>8146.000000</td>\n",
       "      <td>1.00000</td>\n",
       "    </tr>\n",
       "    <tr>\n",
       "      <th>max</th>\n",
       "      <td>10873.000000</td>\n",
       "      <td>1.00000</td>\n",
       "    </tr>\n",
       "  </tbody>\n",
       "</table>\n",
       "</div>"
      ],
      "text/plain": [
       "                 id      target\n",
       "count   7613.000000  7613.00000\n",
       "mean    5441.934848     0.42966\n",
       "std     3137.116090     0.49506\n",
       "min        1.000000     0.00000\n",
       "25%     2734.000000     0.00000\n",
       "50%     5408.000000     0.00000\n",
       "75%     8146.000000     1.00000\n",
       "max    10873.000000     1.00000"
      ]
     },
     "execution_count": 8,
     "metadata": {},
     "output_type": "execute_result"
    }
   ],
   "source": [
    "# train data describe\n",
    "train_data.describe()"
   ]
  },
  {
   "cell_type": "code",
   "execution_count": 9,
   "id": "993aa423-74a0-4dc0-8e1a-f315cde1e66a",
   "metadata": {},
   "outputs": [
    {
     "data": {
      "text/html": [
       "<div>\n",
       "<style scoped>\n",
       "    .dataframe tbody tr th:only-of-type {\n",
       "        vertical-align: middle;\n",
       "    }\n",
       "\n",
       "    .dataframe tbody tr th {\n",
       "        vertical-align: top;\n",
       "    }\n",
       "\n",
       "    .dataframe thead th {\n",
       "        text-align: right;\n",
       "    }\n",
       "</style>\n",
       "<table border=\"1\" class=\"dataframe\">\n",
       "  <thead>\n",
       "    <tr style=\"text-align: right;\">\n",
       "      <th></th>\n",
       "      <th>id</th>\n",
       "    </tr>\n",
       "  </thead>\n",
       "  <tbody>\n",
       "    <tr>\n",
       "      <th>count</th>\n",
       "      <td>3263.000000</td>\n",
       "    </tr>\n",
       "    <tr>\n",
       "      <th>mean</th>\n",
       "      <td>5427.152927</td>\n",
       "    </tr>\n",
       "    <tr>\n",
       "      <th>std</th>\n",
       "      <td>3146.427221</td>\n",
       "    </tr>\n",
       "    <tr>\n",
       "      <th>min</th>\n",
       "      <td>0.000000</td>\n",
       "    </tr>\n",
       "    <tr>\n",
       "      <th>25%</th>\n",
       "      <td>2683.000000</td>\n",
       "    </tr>\n",
       "    <tr>\n",
       "      <th>50%</th>\n",
       "      <td>5500.000000</td>\n",
       "    </tr>\n",
       "    <tr>\n",
       "      <th>75%</th>\n",
       "      <td>8176.000000</td>\n",
       "    </tr>\n",
       "    <tr>\n",
       "      <th>max</th>\n",
       "      <td>10875.000000</td>\n",
       "    </tr>\n",
       "  </tbody>\n",
       "</table>\n",
       "</div>"
      ],
      "text/plain": [
       "                 id\n",
       "count   3263.000000\n",
       "mean    5427.152927\n",
       "std     3146.427221\n",
       "min        0.000000\n",
       "25%     2683.000000\n",
       "50%     5500.000000\n",
       "75%     8176.000000\n",
       "max    10875.000000"
      ]
     },
     "execution_count": 9,
     "metadata": {},
     "output_type": "execute_result"
    }
   ],
   "source": [
    "# test data describe\n",
    "test_data.describe()"
   ]
  },
  {
   "cell_type": "markdown",
   "id": "16e21f24-3e9c-4b5a-b56e-29b0e8dd3870",
   "metadata": {},
   "source": [
    "####  \n",
    "#### **Check null values:**"
   ]
  },
  {
   "cell_type": "code",
   "execution_count": 10,
   "id": "fac1bc58-8bf5-406a-a6fc-dff0b444c539",
   "metadata": {},
   "outputs": [
    {
     "name": "stdout",
     "output_type": "stream",
     "text": [
      "Train data null values: \n",
      " \n",
      "id             0\n",
      "keyword       61\n",
      "location    2533\n",
      "text           0\n",
      "target         0\n",
      "dtype: int64\n"
     ]
    }
   ],
   "source": [
    "print(f\"Train data null values: \\n \\n{train_data.isnull().sum()}\")"
   ]
  },
  {
   "cell_type": "code",
   "execution_count": 11,
   "id": "96bd1f18-4d8e-4dfc-8df7-a061cfb3aa6f",
   "metadata": {},
   "outputs": [
    {
     "name": "stdout",
     "output_type": "stream",
     "text": [
      "Test data null values: \n",
      " \n",
      "id             0\n",
      "keyword       26\n",
      "location    1105\n",
      "text           0\n",
      "dtype: int64\n"
     ]
    }
   ],
   "source": [
    "print(f\"Test data null values: \\n \\n{test_data.isnull().sum()}\")"
   ]
  },
  {
   "cell_type": "markdown",
   "id": "f55f3113-5558-47fe-ae97-165111c6c2e4",
   "metadata": {},
   "source": [
    "####  \n",
    "#### **Check duplicates**"
   ]
  },
  {
   "cell_type": "code",
   "execution_count": 12,
   "id": "a34e7257-b174-44b5-af07-86c50cab2cda",
   "metadata": {},
   "outputs": [
    {
     "name": "stdout",
     "output_type": "stream",
     "text": [
      "There are no duplicates in train data.\n"
     ]
    }
   ],
   "source": [
    "num_duplicates = train_data.duplicated().sum()\n",
    "if num_duplicates == 0:\n",
    "    print(\"There are no duplicates in train data.\")\n",
    "else:\n",
    "    print(f\"{num_duplicates} duplicates found in train data.\")"
   ]
  },
  {
   "cell_type": "code",
   "execution_count": 13,
   "id": "5c2097c8-8f94-4093-b8c7-011df46d73c1",
   "metadata": {},
   "outputs": [
    {
     "name": "stdout",
     "output_type": "stream",
     "text": [
      "There are no duplicates in test data.\n"
     ]
    }
   ],
   "source": [
    "num_duplicates = test_data.duplicated().sum()\n",
    "if num_duplicates == 0:\n",
    "    print(\"There are no duplicates in test data.\")\n",
    "else:\n",
    "    print(f\"{num_duplicates} duplicates found in test data.\")"
   ]
  },
  {
   "cell_type": "markdown",
   "id": "358bab34-7a79-47a6-baff-3c5814d8a42a",
   "metadata": {},
   "source": [
    "####  \n",
    "#### **Check distribution:**"
   ]
  },
  {
   "cell_type": "code",
   "execution_count": 14,
   "id": "3344d12b-d41b-44f9-8f51-9b27e0fad985",
   "metadata": {},
   "outputs": [
    {
     "data": {
      "text/plain": [
       "<Axes: xlabel='target', ylabel='count'>"
      ]
     },
     "execution_count": 14,
     "metadata": {},
     "output_type": "execute_result"
    },
    {
     "data": {
      "image/png": "[encoded data removed]",
      "text/plain": [
       "<Figure size 640x480 with 1 Axes>"
      ]
     },
     "metadata": {},
     "output_type": "display_data"
    }
   ],
   "source": [
    "sns.countplot(data=train_data, x = \"target\")"
   ]
  },
  {
   "cell_type": "markdown",
   "id": "9bacae58-1bc4-40f0-abb7-30e254c9e1c7",
   "metadata": {},
   "source": [
    "#### **Conclusion:** the data is slightly unbalanced"
   ]
  },
  {
   "cell_type": "markdown",
   "id": "4fcd4ae8-73d4-48f9-a7c4-409066b6d2a9",
   "metadata": {},
   "source": [
    "###  \n",
    "### **Cleaning data**"
   ]
  },
  {
   "cell_type": "markdown",
   "id": "2c9faccb-dde5-44be-a3c1-2fad7d6001c3",
   "metadata": {},
   "source": [
    "#### Drop 'id', 'keyword' and 'location' columns to train an RNN only on text data.\n"
   ]
  },
  {
   "cell_type": "code",
   "execution_count": 15,
   "id": "edc1ffcc-383e-4adc-a0f7-bec26ff6b497",
   "metadata": {},
   "outputs": [],
   "source": [
    "test_ids = test_data[\"id\"]\n",
    "\n",
    "train_data = train_data.drop(['id', 'keyword', 'location'], axis=1)\n",
    "test_data = test_data.drop(['id', 'keyword', 'location'], axis=1)"
   ]
  },
  {
   "cell_type": "markdown",
   "id": "7fceb4ef-ff86-42c5-b474-cae9596668f9",
   "metadata": {},
   "source": [
    "####  \n",
    "#### This feature is designed to preprocess text data by removing unnecessary elements and standardizing the text, which can be useful before using the text in machine learning models. Such transformations help the model focus on important text features without being distracted by noise, such as URLs or numbers:"
   ]
  },
  {
   "cell_type": "code",
   "execution_count": 16,
   "id": "8db00849-b364-448a-a8ab-787c1ff75677",
   "metadata": {},
   "outputs": [],
   "source": [
    "def clean_text(text):\n",
    "    text = clean(text,\n",
    "                 lower=True,                                  # Convert to lowercase\n",
    "                 no_urls=True,  # Remove URLs\n",
    "                 no_emails=True,  # Remove emails\n",
    "                 no_phone_numbers=True,  # Remove phone numbers\n",
    "                 no_numbers=True,                             # Remove numbers\n",
    "                 no_digits=True,                              # Remove digits\n",
    "                 no_punct=True,                               # Remove punctuation\n",
    "                 no_emoji=True,                               # Remove emojy\n",
    "                 replace_with_url=\"<url>\",  # Replace URL with a placeholder\n",
    "                 replace_with_email=\"<email>\",  # Replace email with a placeholder\n",
    "                 replace_with_phone_number=\"<phone_number>\",  # Replace phone number with a placeholder\n",
    "                 )\n",
    "    return text"
   ]
  },
  {
   "cell_type": "markdown",
   "id": "261190b5-3c4c-432d-9147-58ba6e877087",
   "metadata": {},
   "source": [
    "####  \n",
    "#### **Stemming:** Reducing words to their base forms reduces the number of unique words in the text, which can improve the performance of machine learning models.\n",
    "\n",
    "#### **Stop Word Filtering:** Removing stop words reduces noise in the data, allowing the model to focus on more meaningful words."
   ]
  },
  {
   "cell_type": "code",
   "execution_count": 17,
   "id": "e4a33689-d9b5-44b2-9a24-39099cb61b6c",
   "metadata": {},
   "outputs": [],
   "source": [
    "stemmer = SnowballStemmer('english')\n",
    "stop_words = set(stopwords.words('english'))\n",
    "\n",
    "def stem_words(sentence):\n",
    "    words = sentence.split()\n",
    "    words = [stemmer.stem(word) for word in words if word not in stop_words]\n",
    "    \n",
    "    return ' '.join(words)"
   ]
  },
  {
   "cell_type": "code",
   "execution_count": 18,
   "id": "30777c73-7c3c-49cb-bd7f-8d082e016aec",
   "metadata": {},
   "outputs": [],
   "source": [
    "def clean_data(data):\n",
    "    data['text'] = data['text'].apply(clean_text)\n",
    "    data['text'] = data['text'].apply(stem_words)\n",
    "\n",
    "    return data['text']\n"
   ]
  },
  {
   "cell_type": "code",
   "execution_count": 19,
   "id": "62c818e5-4131-45e9-be4f-57fd11b99df4",
   "metadata": {},
   "outputs": [
    {
     "data": {
      "text/plain": [
       "array(['deed reason earthquak may allah forgiv us',\n",
       "       'forest fire near la rong sask canada',\n",
       "       'resid ask shelter place notifi offic evacu shelter place order expect',\n",
       "       '<number> peopl receiv wildfir evacu order california',\n",
       "       'got sent photo rubi alaska smoke wildfir pour school'],\n",
       "      dtype=object)"
      ]
     },
     "execution_count": 19,
     "metadata": {},
     "output_type": "execute_result"
    }
   ],
   "source": [
    "train_data['text'] = clean_data(train_data)\n",
    "test_data['text'] = clean_data(test_data)\n",
    "\n",
    "train_data['text'].head().values\n"
   ]
  },
  {
   "cell_type": "markdown",
   "id": "410e32ec-04d0-4925-b6e1-bc36f435c284",
   "metadata": {},
   "source": [
    "#### This is an example of cleared text"
   ]
  },
  {
   "cell_type": "markdown",
   "id": "5d6c1f31-378e-4f89-8e6e-adc8530eb648",
   "metadata": {},
   "source": [
    "####  \n",
    "#### **Tokenizer**"
   ]
  },
  {
   "cell_type": "markdown",
   "id": "86d7c482-41fb-490c-8189-e51204e19f14",
   "metadata": {},
   "source": [
    "#### is used to convert text data into numerical sequences, which is necessary for training machine learning models, especially neural networks."
   ]
  },
  {
   "cell_type": "code",
   "execution_count": 20,
   "id": "ff07860e-80b3-4f93-8c09-9f63bdf5467b",
   "metadata": {},
   "outputs": [],
   "source": [
    "new_train_data = train_data.drop(['target'], axis=1)"
   ]
  },
  {
   "cell_type": "code",
   "execution_count": 21,
   "id": "52141db7-3b38-43de-be9a-359783c28a85",
   "metadata": {},
   "outputs": [],
   "source": [
    "all_tweets = pd.concat([new_train_data, test_data], ignore_index=True)"
   ]
  },
  {
   "cell_type": "code",
   "execution_count": 22,
   "id": "ad30a4a3-1565-4bfb-b4e9-fd8aca317d8a",
   "metadata": {},
   "outputs": [
    {
     "data": {
      "text/html": [
       "<div>\n",
       "<style scoped>\n",
       "    .dataframe tbody tr th:only-of-type {\n",
       "        vertical-align: middle;\n",
       "    }\n",
       "\n",
       "    .dataframe tbody tr th {\n",
       "        vertical-align: top;\n",
       "    }\n",
       "\n",
       "    .dataframe thead th {\n",
       "        text-align: right;\n",
       "    }\n",
       "</style>\n",
       "<table border=\"1\" class=\"dataframe\">\n",
       "  <thead>\n",
       "    <tr style=\"text-align: right;\">\n",
       "      <th></th>\n",
       "      <th>text</th>\n",
       "    </tr>\n",
       "  </thead>\n",
       "  <tbody>\n",
       "    <tr>\n",
       "      <th>0</th>\n",
       "      <td>deed reason earthquak may allah forgiv us</td>\n",
       "    </tr>\n",
       "    <tr>\n",
       "      <th>1</th>\n",
       "      <td>forest fire near la rong sask canada</td>\n",
       "    </tr>\n",
       "    <tr>\n",
       "      <th>2</th>\n",
       "      <td>resid ask shelter place notifi offic evacu she...</td>\n",
       "    </tr>\n",
       "    <tr>\n",
       "      <th>3</th>\n",
       "      <td>&lt;number&gt; peopl receiv wildfir evacu order cali...</td>\n",
       "    </tr>\n",
       "    <tr>\n",
       "      <th>4</th>\n",
       "      <td>got sent photo rubi alaska smoke wildfir pour ...</td>\n",
       "    </tr>\n",
       "  </tbody>\n",
       "</table>\n",
       "</div>"
      ],
      "text/plain": [
       "                                                text\n",
       "0          deed reason earthquak may allah forgiv us\n",
       "1               forest fire near la rong sask canada\n",
       "2  resid ask shelter place notifi offic evacu she...\n",
       "3  <number> peopl receiv wildfir evacu order cali...\n",
       "4  got sent photo rubi alaska smoke wildfir pour ..."
      ]
     },
     "execution_count": 22,
     "metadata": {},
     "output_type": "execute_result"
    }
   ],
   "source": [
    "all_tweets.head()"
   ]
  },
  {
   "cell_type": "code",
   "execution_count": 23,
   "id": "5db6dc95-b73c-400c-b7fe-6158a7a8af4f",
   "metadata": {},
   "outputs": [],
   "source": [
    "tokenizer = Tokenizer(num_words=20000)\n",
    "tokenizer.fit_on_texts(all_tweets['text'])"
   ]
  },
  {
   "cell_type": "code",
   "execution_count": 24,
   "id": "7581fc2e-96d7-4574-ad75-125273b3a18c",
   "metadata": {},
   "outputs": [],
   "source": [
    "train_sequences = tokenizer.texts_to_sequences(train_data['text'])\n",
    "test_sequences = tokenizer.texts_to_sequences(test_data['text'])"
   ]
  },
  {
   "cell_type": "code",
   "execution_count": 25,
   "id": "6d1b127e-0647-46e3-bb3b-3dd854096b00",
   "metadata": {},
   "outputs": [],
   "source": [
    "max_length = max(max(len(seq) for seq in train_sequences), max(len(seq) for seq in test_sequences))"
   ]
  },
  {
   "cell_type": "code",
   "execution_count": 26,
   "id": "7366e3ea-e71a-4ebb-be77-236a7c9999c7",
   "metadata": {},
   "outputs": [
    {
     "name": "stdout",
     "output_type": "stream",
     "text": [
      "                                                text  target\n",
      "0  [4695, 458, 222, 108, 1666, 1958, 17, 0, 0, 0,...       1\n",
      "1  [121, 4, 109, 712, 6746, 6747, 1127, 0, 0, 0, ...       1\n",
      "2  [1252, 480, 1811, 427, 6748, 231, 47, 1811, 42...       1\n",
      "3  [2, 13, 1667, 101, 47, 323, 57, 0, 0, 0, 0, 0,...       1\n",
      "4  [52, 1317, 150, 3701, 1812, 205, 101, 2415, 15...       1\n",
      "                                                text\n",
      "0  [164, 1323, 58, 22, 0, 0, 0, 0, 0, 0, 0, 0, 0,...\n",
      "1  [326, 222, 876, 146, 450, 1012, 217, 0, 0, 0, ...\n",
      "2  [121, 4, 634, 2163, 14534, 3301, 757, 414, 119...\n",
      "3  [328, 298, 4818, 101, 0, 0, 0, 0, 0, 0, 0, 0, ...\n",
      "4  [454, 595, 16, 2, 383, 1117, 0, 0, 0, 0, 0, 0,...\n"
     ]
    }
   ],
   "source": [
    "train_padded = pad_sequences(train_sequences, maxlen=max_length, padding='post')\n",
    "test_padded = pad_sequences(test_sequences, maxlen=max_length, padding='post')\n",
    "\n",
    "train_data_tocken = train_data.copy()\n",
    "train_data_tocken['text'] = list(train_padded)\n",
    "\n",
    "test_data_tocken = test_data.copy()\n",
    "test_data_tocken['text'] = list(test_padded)\n",
    "\n",
    "print(train_data_tocken.head())\n",
    "print(test_data_tocken.head())"
   ]
  },
  {
   "cell_type": "markdown",
   "id": "4ec6084e-45f6-436c-b65d-1530b32af92b",
   "metadata": {},
   "source": [
    "####  \n",
    "### **RNN**"
   ]
  },
  {
   "cell_type": "markdown",
   "id": "91cdf140-a70b-4451-a34a-3357e461de40",
   "metadata": {},
   "source": [
    "####  RNN (Recurrent Neural Network) is a type of neural network that is used to work with sequential data such as text, time series, audio, and video. Unlike traditional neural networks, RNNs have loops that allow information to persist, providing the ability to consider previous elements of a sequence when processing the current one."
   ]
  },
  {
   "cell_type": "code",
   "execution_count": 27,
   "id": "d4a0c52e-4dd4-4dfc-8ec6-1816d2e1e877",
   "metadata": {},
   "outputs": [
    {
     "data": {
      "text/html": [
       "<pre style=\"white-space:pre;overflow-x:auto;line-height:normal;font-family:Menlo,'DejaVu Sans Mono',consolas,'Courier New',monospace\"><span style=\"font-weight: bold\">Model: \"sequential\"</span>\n",
       "</pre>\n"
      ],
      "text/plain": [
       "\u001b[1mModel: \"sequential\"\u001b[0m\n"
      ]
     },
     "metadata": {},
     "output_type": "display_data"
    },
    {
     "data": {
      "text/html": [
       "<pre style=\"white-space:pre;overflow-x:auto;line-height:normal;font-family:Menlo,'DejaVu Sans Mono',consolas,'Courier New',monospace\">┏━━━━━━━━━━━━━━━━━━━━━━━━━━━━━━━━━┳━━━━━━━━━━━━━━━━━━━━━━━━┳━━━━━━━━━━━━━━━┓\n",
       "┃<span style=\"font-weight: bold\"> Layer (type)                    </span>┃<span style=\"font-weight: bold\"> Output Shape           </span>┃<span style=\"font-weight: bold\">       Param # </span>┃\n",
       "┡━━━━━━━━━━━━━━━━━━━━━━━━━━━━━━━━━╇━━━━━━━━━━━━━━━━━━━━━━━━╇━━━━━━━━━━━━━━━┩\n",
       "│ embedding (<span style=\"color: #0087ff; text-decoration-color: #0087ff\">Embedding</span>)           │ ?                      │   <span style=\"color: #00af00; text-decoration-color: #00af00\">0</span> (unbuilt) │\n",
       "├─────────────────────────────────┼────────────────────────┼───────────────┤\n",
       "│ simple_rnn (<span style=\"color: #0087ff; text-decoration-color: #0087ff\">SimpleRNN</span>)          │ ?                      │   <span style=\"color: #00af00; text-decoration-color: #00af00\">0</span> (unbuilt) │\n",
       "├─────────────────────────────────┼────────────────────────┼───────────────┤\n",
       "│ dropout (<span style=\"color: #0087ff; text-decoration-color: #0087ff\">Dropout</span>)               │ ?                      │             <span style=\"color: #00af00; text-decoration-color: #00af00\">0</span> │\n",
       "├─────────────────────────────────┼────────────────────────┼───────────────┤\n",
       "│ dense (<span style=\"color: #0087ff; text-decoration-color: #0087ff\">Dense</span>)                   │ ?                      │   <span style=\"color: #00af00; text-decoration-color: #00af00\">0</span> (unbuilt) │\n",
       "├─────────────────────────────────┼────────────────────────┼───────────────┤\n",
       "│ dropout_1 (<span style=\"color: #0087ff; text-decoration-color: #0087ff\">Dropout</span>)             │ ?                      │             <span style=\"color: #00af00; text-decoration-color: #00af00\">0</span> │\n",
       "├─────────────────────────────────┼────────────────────────┼───────────────┤\n",
       "│ dense_1 (<span style=\"color: #0087ff; text-decoration-color: #0087ff\">Dense</span>)                 │ ?                      │   <span style=\"color: #00af00; text-decoration-color: #00af00\">0</span> (unbuilt) │\n",
       "└─────────────────────────────────┴────────────────────────┴───────────────┘\n",
       "</pre>\n"
      ],
      "text/plain": [
       "┏━━━━━━━━━━━━━━━━━━━━━━━━━━━━━━━━━┳━━━━━━━━━━━━━━━━━━━━━━━━┳━━━━━━━━━━━━━━━┓\n",
       "┃\u001b[1m \u001b[0m\u001b[1mLayer (type)                   \u001b[0m\u001b[1m \u001b[0m┃\u001b[1m \u001b[0m\u001b[1mOutput Shape          \u001b[0m\u001b[1m \u001b[0m┃\u001b[1m \u001b[0m\u001b[1m      Param #\u001b[0m\u001b[1m \u001b[0m┃\n",
       "┡━━━━━━━━━━━━━━━━━━━━━━━━━━━━━━━━━╇━━━━━━━━━━━━━━━━━━━━━━━━╇━━━━━━━━━━━━━━━┩\n",
       "│ embedding (\u001b[38;5;33mEmbedding\u001b[0m)           │ ?                      │   \u001b[38;5;34m0\u001b[0m (unbuilt) │\n",
       "├─────────────────────────────────┼────────────────────────┼───────────────┤\n",
       "│ simple_rnn (\u001b[38;5;33mSimpleRNN\u001b[0m)          │ ?                      │   \u001b[38;5;34m0\u001b[0m (unbuilt) │\n",
       "├─────────────────────────────────┼────────────────────────┼───────────────┤\n",
       "│ dropout (\u001b[38;5;33mDropout\u001b[0m)               │ ?                      │             \u001b[38;5;34m0\u001b[0m │\n",
       "├─────────────────────────────────┼────────────────────────┼───────────────┤\n",
       "│ dense (\u001b[38;5;33mDense\u001b[0m)                   │ ?                      │   \u001b[38;5;34m0\u001b[0m (unbuilt) │\n",
       "├─────────────────────────────────┼────────────────────────┼───────────────┤\n",
       "│ dropout_1 (\u001b[38;5;33mDropout\u001b[0m)             │ ?                      │             \u001b[38;5;34m0\u001b[0m │\n",
       "├─────────────────────────────────┼────────────────────────┼───────────────┤\n",
       "│ dense_1 (\u001b[38;5;33mDense\u001b[0m)                 │ ?                      │   \u001b[38;5;34m0\u001b[0m (unbuilt) │\n",
       "└─────────────────────────────────┴────────────────────────┴───────────────┘\n"
      ]
     },
     "metadata": {},
     "output_type": "display_data"
    },
    {
     "data": {
      "text/html": [
       "<pre style=\"white-space:pre;overflow-x:auto;line-height:normal;font-family:Menlo,'DejaVu Sans Mono',consolas,'Courier New',monospace\"><span style=\"font-weight: bold\"> Total params: </span><span style=\"color: #00af00; text-decoration-color: #00af00\">0</span> (0.00 B)\n",
       "</pre>\n"
      ],
      "text/plain": [
       "\u001b[1m Total params: \u001b[0m\u001b[38;5;34m0\u001b[0m (0.00 B)\n"
      ]
     },
     "metadata": {},
     "output_type": "display_data"
    },
    {
     "data": {
      "text/html": [
       "<pre style=\"white-space:pre;overflow-x:auto;line-height:normal;font-family:Menlo,'DejaVu Sans Mono',consolas,'Courier New',monospace\"><span style=\"font-weight: bold\"> Trainable params: </span><span style=\"color: #00af00; text-decoration-color: #00af00\">0</span> (0.00 B)\n",
       "</pre>\n"
      ],
      "text/plain": [
       "\u001b[1m Trainable params: \u001b[0m\u001b[38;5;34m0\u001b[0m (0.00 B)\n"
      ]
     },
     "metadata": {},
     "output_type": "display_data"
    },
    {
     "data": {
      "text/html": [
       "<pre style=\"white-space:pre;overflow-x:auto;line-height:normal;font-family:Menlo,'DejaVu Sans Mono',consolas,'Courier New',monospace\"><span style=\"font-weight: bold\"> Non-trainable params: </span><span style=\"color: #00af00; text-decoration-color: #00af00\">0</span> (0.00 B)\n",
       "</pre>\n"
      ],
      "text/plain": [
       "\u001b[1m Non-trainable params: \u001b[0m\u001b[38;5;34m0\u001b[0m (0.00 B)\n"
      ]
     },
     "metadata": {},
     "output_type": "display_data"
    }
   ],
   "source": [
    "vocab_size = len(tokenizer.word_index) + 1\n",
    "embed_units=100\n",
    "hidden_units=128\n",
    "callbacks = keras.callbacks.EarlyStopping(monitor='val_loss', patience=2, verbose=1)\n",
    "\n",
    "# model creation\n",
    "model_RNN=Sequential()\n",
    "\n",
    "# to transform word indices into dense vectors\n",
    "model_RNN.add(Embedding(vocab_size, embed_units))\n",
    "\n",
    "# Adding a simple RNN layer with 128 neurons\n",
    "model_RNN.add(SimpleRNN(hidden_units))\n",
    "\n",
    "# Dropout layer to prevent overfitting\n",
    "model_RNN.add(Dropout(0.2))\n",
    "\n",
    "# Adding a RNN layer with 256 neurons\n",
    "model_RNN.add(Dense(256, activation='relu'))\n",
    "\n",
    "# Dropout layer to prevent overfitting\n",
    "model_RNN.add(Dropout(0.2))\n",
    "\n",
    "# Single neuron output layer with sigmoid activation for binary classification\n",
    "model_RNN.add(Dense(1, activation='sigmoid'))\n",
    "\n",
    "model_RNN.summary()\n"
   ]
  },
  {
   "cell_type": "code",
   "execution_count": 28,
   "id": "170534e2-bb35-4396-8196-b9065f143a2c",
   "metadata": {},
   "outputs": [],
   "source": [
    "# how much the network weights are updated at each training step\n",
    "learning_rate = 0.0001\n",
    "\n",
    "# Compiling the model\n",
    "model_RNN.compile(loss = 'binary_crossentropy',\n",
    "              optimizer = 'adam',\n",
    "              metrics = ['accuracy'])"
   ]
  },
  {
   "cell_type": "markdown",
   "id": "5fafdd62-05a1-4e79-a0c1-8e267b74ab12",
   "metadata": {},
   "source": [
    "* train_padded: Padded sequences from the training dataset.\n",
    "* train_data['target'].values: Target labels for binary classification.\n",
    "* batch_size=200: Determines how many samples will be processed before updating the model parameters.\n",
    "* epochs=7: Specifies that the model will go through the entire training set 7 times.\n",
    "* validation_split=0.2: 20% of the data is used to test the model's performance during training.\n",
    "* callbacks=[callbacks]: Enables early stopping to prevent overfitting if the model stops improving on the validation data."
   ]
  },
  {
   "cell_type": "code",
   "execution_count": 29,
   "id": "aae80e4b-1663-4975-9f46-b5f47db81ec8",
   "metadata": {},
   "outputs": [
    {
     "name": "stdout",
     "output_type": "stream",
     "text": [
      "Epoch 1/7\n",
      "\u001b[1m31/31\u001b[0m \u001b[32m━━━━━━━━━━━━━━━━━━━━\u001b[0m\u001b[37m\u001b[0m \u001b[1m4s\u001b[0m 55ms/step - accuracy: 0.6036 - loss: 0.6452 - val_accuracy: 0.7564 - val_loss: 0.5108\n",
      "Epoch 2/7\n",
      "\u001b[1m31/31\u001b[0m \u001b[32m━━━━━━━━━━━━━━━━━━━━\u001b[0m\u001b[37m\u001b[0m \u001b[1m1s\u001b[0m 44ms/step - accuracy: 0.8779 - loss: 0.3253 - val_accuracy: 0.7321 - val_loss: 0.5464\n",
      "Epoch 3/7\n",
      "\u001b[1m31/31\u001b[0m \u001b[32m━━━━━━━━━━━━━━━━━━━━\u001b[0m\u001b[37m\u001b[0m \u001b[1m1s\u001b[0m 44ms/step - accuracy: 0.9462 - loss: 0.1593 - val_accuracy: 0.7406 - val_loss: 0.5994\n",
      "Epoch 3: early stopping\n"
     ]
    }
   ],
   "source": [
    "model_RNN_hist = model_RNN.fit(train_padded, \n",
    "                           train_data['target'].values, \n",
    "                           batch_size=200, \n",
    "                           epochs=7, \n",
    "                           validation_split=0.2,\n",
    "                           callbacks=[callbacks])"
   ]
  },
  {
   "cell_type": "markdown",
   "id": "b7fcd741-d947-44f2-9fae-fb398ef7fabc",
   "metadata": {},
   "source": [
    "Early stopping was activated after the third epoch because the val_loss metric (validation loss) started to increase, which is a sign that the model is starting to overfit.\n",
    "Usually, if the validation metrics start to get worse while improving on the training data, this signals overfitting, and early stopping helps to avoid further deterioration.\n",
    "\n"
   ]
  },
  {
   "cell_type": "code",
   "execution_count": 30,
   "id": "1f86650b-4433-47f7-8692-4b6367b7627e",
   "metadata": {},
   "outputs": [
    {
     "data": {
      "text/html": [
       "<pre style=\"white-space:pre;overflow-x:auto;line-height:normal;font-family:Menlo,'DejaVu Sans Mono',consolas,'Courier New',monospace\"><span style=\"font-weight: bold\">Model: \"sequential_1\"</span>\n",
       "</pre>\n"
      ],
      "text/plain": [
       "\u001b[1mModel: \"sequential_1\"\u001b[0m\n"
      ]
     },
     "metadata": {},
     "output_type": "display_data"
    },
    {
     "data": {
      "text/html": [
       "<pre style=\"white-space:pre;overflow-x:auto;line-height:normal;font-family:Menlo,'DejaVu Sans Mono',consolas,'Courier New',monospace\">┏━━━━━━━━━━━━━━━━━━━━━━━━━━━━━━━━━┳━━━━━━━━━━━━━━━━━━━━━━━━┳━━━━━━━━━━━━━━━┓\n",
       "┃<span style=\"font-weight: bold\"> Layer (type)                    </span>┃<span style=\"font-weight: bold\"> Output Shape           </span>┃<span style=\"font-weight: bold\">       Param # </span>┃\n",
       "┡━━━━━━━━━━━━━━━━━━━━━━━━━━━━━━━━━╇━━━━━━━━━━━━━━━━━━━━━━━━╇━━━━━━━━━━━━━━━┩\n",
       "│ embedding_1 (<span style=\"color: #0087ff; text-decoration-color: #0087ff\">Embedding</span>)         │ ?                      │   <span style=\"color: #00af00; text-decoration-color: #00af00\">0</span> (unbuilt) │\n",
       "├─────────────────────────────────┼────────────────────────┼───────────────┤\n",
       "│ bidirectional (<span style=\"color: #0087ff; text-decoration-color: #0087ff\">Bidirectional</span>)   │ ?                      │   <span style=\"color: #00af00; text-decoration-color: #00af00\">0</span> (unbuilt) │\n",
       "├─────────────────────────────────┼────────────────────────┼───────────────┤\n",
       "│ dropout_2 (<span style=\"color: #0087ff; text-decoration-color: #0087ff\">Dropout</span>)             │ ?                      │             <span style=\"color: #00af00; text-decoration-color: #00af00\">0</span> │\n",
       "├─────────────────────────────────┼────────────────────────┼───────────────┤\n",
       "│ dense_2 (<span style=\"color: #0087ff; text-decoration-color: #0087ff\">Dense</span>)                 │ ?                      │   <span style=\"color: #00af00; text-decoration-color: #00af00\">0</span> (unbuilt) │\n",
       "├─────────────────────────────────┼────────────────────────┼───────────────┤\n",
       "│ dropout_3 (<span style=\"color: #0087ff; text-decoration-color: #0087ff\">Dropout</span>)             │ ?                      │             <span style=\"color: #00af00; text-decoration-color: #00af00\">0</span> │\n",
       "├─────────────────────────────────┼────────────────────────┼───────────────┤\n",
       "│ dense_3 (<span style=\"color: #0087ff; text-decoration-color: #0087ff\">Dense</span>)                 │ ?                      │   <span style=\"color: #00af00; text-decoration-color: #00af00\">0</span> (unbuilt) │\n",
       "└─────────────────────────────────┴────────────────────────┴───────────────┘\n",
       "</pre>\n"
      ],
      "text/plain": [
       "┏━━━━━━━━━━━━━━━━━━━━━━━━━━━━━━━━━┳━━━━━━━━━━━━━━━━━━━━━━━━┳━━━━━━━━━━━━━━━┓\n",
       "┃\u001b[1m \u001b[0m\u001b[1mLayer (type)                   \u001b[0m\u001b[1m \u001b[0m┃\u001b[1m \u001b[0m\u001b[1mOutput Shape          \u001b[0m\u001b[1m \u001b[0m┃\u001b[1m \u001b[0m\u001b[1m      Param #\u001b[0m\u001b[1m \u001b[0m┃\n",
       "┡━━━━━━━━━━━━━━━━━━━━━━━━━━━━━━━━━╇━━━━━━━━━━━━━━━━━━━━━━━━╇━━━━━━━━━━━━━━━┩\n",
       "│ embedding_1 (\u001b[38;5;33mEmbedding\u001b[0m)         │ ?                      │   \u001b[38;5;34m0\u001b[0m (unbuilt) │\n",
       "├─────────────────────────────────┼────────────────────────┼───────────────┤\n",
       "│ bidirectional (\u001b[38;5;33mBidirectional\u001b[0m)   │ ?                      │   \u001b[38;5;34m0\u001b[0m (unbuilt) │\n",
       "├─────────────────────────────────┼────────────────────────┼───────────────┤\n",
       "│ dropout_2 (\u001b[38;5;33mDropout\u001b[0m)             │ ?                      │             \u001b[38;5;34m0\u001b[0m │\n",
       "├─────────────────────────────────┼────────────────────────┼───────────────┤\n",
       "│ dense_2 (\u001b[38;5;33mDense\u001b[0m)                 │ ?                      │   \u001b[38;5;34m0\u001b[0m (unbuilt) │\n",
       "├─────────────────────────────────┼────────────────────────┼───────────────┤\n",
       "│ dropout_3 (\u001b[38;5;33mDropout\u001b[0m)             │ ?                      │             \u001b[38;5;34m0\u001b[0m │\n",
       "├─────────────────────────────────┼────────────────────────┼───────────────┤\n",
       "│ dense_3 (\u001b[38;5;33mDense\u001b[0m)                 │ ?                      │   \u001b[38;5;34m0\u001b[0m (unbuilt) │\n",
       "└─────────────────────────────────┴────────────────────────┴───────────────┘\n"
      ]
     },
     "metadata": {},
     "output_type": "display_data"
    },
    {
     "data": {
      "text/html": [
       "<pre style=\"white-space:pre;overflow-x:auto;line-height:normal;font-family:Menlo,'DejaVu Sans Mono',consolas,'Courier New',monospace\"><span style=\"font-weight: bold\"> Total params: </span><span style=\"color: #00af00; text-decoration-color: #00af00\">0</span> (0.00 B)\n",
       "</pre>\n"
      ],
      "text/plain": [
       "\u001b[1m Total params: \u001b[0m\u001b[38;5;34m0\u001b[0m (0.00 B)\n"
      ]
     },
     "metadata": {},
     "output_type": "display_data"
    },
    {
     "data": {
      "text/html": [
       "<pre style=\"white-space:pre;overflow-x:auto;line-height:normal;font-family:Menlo,'DejaVu Sans Mono',consolas,'Courier New',monospace\"><span style=\"font-weight: bold\"> Trainable params: </span><span style=\"color: #00af00; text-decoration-color: #00af00\">0</span> (0.00 B)\n",
       "</pre>\n"
      ],
      "text/plain": [
       "\u001b[1m Trainable params: \u001b[0m\u001b[38;5;34m0\u001b[0m (0.00 B)\n"
      ]
     },
     "metadata": {},
     "output_type": "display_data"
    },
    {
     "data": {
      "text/html": [
       "<pre style=\"white-space:pre;overflow-x:auto;line-height:normal;font-family:Menlo,'DejaVu Sans Mono',consolas,'Courier New',monospace\"><span style=\"font-weight: bold\"> Non-trainable params: </span><span style=\"color: #00af00; text-decoration-color: #00af00\">0</span> (0.00 B)\n",
       "</pre>\n"
      ],
      "text/plain": [
       "\u001b[1m Non-trainable params: \u001b[0m\u001b[38;5;34m0\u001b[0m (0.00 B)\n"
      ]
     },
     "metadata": {},
     "output_type": "display_data"
    },
    {
     "name": "stdout",
     "output_type": "stream",
     "text": [
      "Epoch 1/7\n",
      "\u001b[1m31/31\u001b[0m \u001b[32m━━━━━━━━━━━━━━━━━━━━\u001b[0m\u001b[37m\u001b[0m \u001b[1m10s\u001b[0m 168ms/step - accuracy: 0.5647 - loss: 0.6892 - val_accuracy: 0.5345 - val_loss: 0.6880\n",
      "Epoch 2/7\n",
      "\u001b[1m31/31\u001b[0m \u001b[32m━━━━━━━━━━━━━━━━━━━━\u001b[0m\u001b[37m\u001b[0m \u001b[1m5s\u001b[0m 146ms/step - accuracy: 0.5887 - loss: 0.6734 - val_accuracy: 0.5345 - val_loss: 0.6822\n",
      "Epoch 3/7\n",
      "\u001b[1m31/31\u001b[0m \u001b[32m━━━━━━━━━━━━━━━━━━━━\u001b[0m\u001b[37m\u001b[0m \u001b[1m5s\u001b[0m 147ms/step - accuracy: 0.5738 - loss: 0.6661 - val_accuracy: 0.5469 - val_loss: 0.6629\n",
      "Epoch 4/7\n",
      "\u001b[1m31/31\u001b[0m \u001b[32m━━━━━━━━━━━━━━━━━━━━\u001b[0m\u001b[37m\u001b[0m \u001b[1m5s\u001b[0m 154ms/step - accuracy: 0.6539 - loss: 0.6217 - val_accuracy: 0.7026 - val_loss: 0.6068\n",
      "Epoch 5/7\n",
      "\u001b[1m31/31\u001b[0m \u001b[32m━━━━━━━━━━━━━━━━━━━━\u001b[0m\u001b[37m\u001b[0m \u001b[1m5s\u001b[0m 152ms/step - accuracy: 0.7666 - loss: 0.5452 - val_accuracy: 0.7518 - val_loss: 0.5326\n",
      "Epoch 6/7\n",
      "\u001b[1m31/31\u001b[0m \u001b[32m━━━━━━━━━━━━━━━━━━━━\u001b[0m\u001b[37m\u001b[0m \u001b[1m5s\u001b[0m 154ms/step - accuracy: 0.8224 - loss: 0.4318 - val_accuracy: 0.7695 - val_loss: 0.4917\n",
      "Epoch 7/7\n",
      "\u001b[1m31/31\u001b[0m \u001b[32m━━━━━━━━━━━━━━━━━━━━\u001b[0m\u001b[37m\u001b[0m \u001b[1m5s\u001b[0m 151ms/step - accuracy: 0.8617 - loss: 0.3435 - val_accuracy: 0.7978 - val_loss: 0.4591\n"
     ]
    }
   ],
   "source": [
    "model_LSTM = Sequential()\n",
    "\n",
    "# embedding layer\n",
    "model_LSTM.add(Embedding(vocab_size, embed_units))\n",
    "\n",
    "# idirectional LSTM layer\n",
    "model_LSTM.add(Bidirectional(LSTM(hidden_units)))\n",
    "\n",
    "# Dropout to reduce overfitting\n",
    "model_LSTM.add(Dropout(0.2))\n",
    "\n",
    "# ADense layer\n",
    "model_LSTM.add(Dense(256, activation='relu'))\n",
    "\n",
    "# Dropout - to reduce overfitting\n",
    "model_LSTM.add(Dropout(0.2))\n",
    "\n",
    "# Aoutput layer with sigmoid for binary classification\n",
    "model_LSTM.add(Dense(1, activation='sigmoid'))\n",
    "\n",
    "# model summary\n",
    "model_LSTM.summary()\n",
    "\n",
    "# Compile\n",
    "learning_rate = 0.0001\n",
    "model_LSTM.compile(loss='binary_crossentropy',\n",
    "                     optimizer=Adam(learning_rate),\n",
    "                     metrics=['accuracy'])\n",
    "\n",
    "# Train the model\n",
    "model_LSTM_history = model_LSTM.fit(train_padded, \n",
    "                                train_data['target'].values, \n",
    "                                batch_size=200, \n",
    "                                epochs=7, \n",
    "                                validation_split=0.2,\n",
    "                                callbacks=[callbacks])"
   ]
  },
  {
   "cell_type": "markdown",
   "id": "a678c1cf-d1dc-4ad1-953c-d84fcab97c00",
   "metadata": {},
   "source": [
    "Epochs 1-3: The model is trained, but the accuracy and validation loss have not improved significantly. This is common at the beginning of training.\n",
    "\n",
    "Epochs 4-6: Halfway through training, the model starts to improve significantly, as seen by the fact that the accuracy on the training and validation data increases sharply. The loss decreases, and the accuracy on the validation data increases at each step.\n",
    "\n",
    "Epoch 7: The model finishes training with good results on both the training and validation data. The accuracy on the validation data has reached 80%, which is a good result for many problems."
   ]
  },
  {
   "cell_type": "markdown",
   "id": "a8d3d872-d6c1-4e22-9921-9ce3221d3021",
   "metadata": {},
   "source": [
    "###  \n",
    "### **Save data**"
   ]
  },
  {
   "cell_type": "code",
   "execution_count": 31,
   "id": "8e9f273a-6271-4386-8815-64f5a6d8e95c",
   "metadata": {},
   "outputs": [
    {
     "name": "stdout",
     "output_type": "stream",
     "text": [
      "\u001b[1m102/102\u001b[0m \u001b[32m━━━━━━━━━━━━━━━━━━━━\u001b[0m\u001b[37m\u001b[0m \u001b[1m1s\u001b[0m 7ms/step\n",
      "Predictions have been written to 'predictions.csv'\n"
     ]
    }
   ],
   "source": [
    "predictions = model_RNN.predict(test_padded)\n",
    "\n",
    "final_predictions = (predictions > 0.5).astype(int)\n",
    "\n",
    "results_df = pd.DataFrame({\"id\": test_ids, \"target\": final_predictions.flatten()})\n",
    "\n",
    "results_df.to_csv(\"predictions.csv\", index=False)\n",
    "\n",
    "print(\"Predictions have been written to 'predictions.csv'\")"
   ]
  },
  {
   "cell_type": "code",
   "execution_count": null,
   "id": "32a9bb65-52af-4f50-9034-fe20afd0c490",
   "metadata": {},
   "outputs": [],
   "source": []
  }
 ],
 "metadata": {
  "kernelspec": {
   "display_name": "Python 3 (ipykernel)",
   "language": "python",
   "name": "python3"
  },
  "language_info": {
   "codemirror_mode": {
    "name": "ipython",
    "version": 3
   },
   "file_extension": ".py",
   "mimetype": "text/x-python",
   "name": "python",
   "nbconvert_exporter": "python",
   "pygments_lexer": "ipython3",
   "version": "3.12.3"
  }
 },
 "nbformat": 4,
 "nbformat_minor": 5
}
